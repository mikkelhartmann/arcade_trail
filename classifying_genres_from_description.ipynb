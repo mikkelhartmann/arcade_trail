{
 "cells": [
  {
   "cell_type": "markdown",
   "metadata": {},
   "source": [
    "# Classifying game genres based on game descriptions\n",
    "The goal is to use short (170 character) description of games to classify them as 1 og 31 game genres. The idea is that it should be possible to get a broad overview of what kind og game it is by reading the description. Let's have a few example:\n",
    "\n",
    ">a game of exploration and survival in an epic fantasy setting\n",
    "\n",
    ">A physics based game with 100 levels of challenging fun\n",
    "\n",
    ">Welcome to the next-generation of open-world gaming\n",
    "\n",
    ">The long awaited second expansion to Blizzards critically acclaimed RTS\n",
    "\n",
    ">A Pay2Win business model simulator(adventure) that exposes the tricks online game businessmen use to maximize monetizatio\n",
    "\n",
    "This illustrages some of the benifits and challanges of the dataset. Let's have a look at the 31 genres:\n",
    "\n",
    "1. Action\n",
    "2. Indie\n",
    "3. Strategy\n",
    "4. Early Access\n",
    "5. Free to Play\n",
    "6. Massively Multiplayer\n",
    "7. RPG\n",
    "8. Adventure\n",
    "9. Casual\n",
    "10. Simulation\n",
    "11. Racing\n",
    "12. Sports\n",
    "13. **Audio Production**\n",
    "14. **Utilities**\n",
    "15. **Video Production**\n",
    "16. **Education**\n",
    "17. **Design & Illustration**\n",
    "18. **Web Publishing**\n",
    "19. **Photo Editing**\n",
    "20. **Software Training**\n",
    "21. **Animation & Modeling**\n",
    "24. Puzzle\n",
    "25. Platformer\n",
    "26. Survival\n",
    "27. Shooter\n",
    "28. Horror\n",
    "29. Sandbox\n",
    "30. **Music**\n",
    "31. Fighting\n",
    "32. Hidden Objects\n",
    "33. **Accounting**\n",
    "\n",
    "Quite a lot of these (11 ~ 1/3) are not actually games. That is because Steam sell application that are not games."
   ]
  },
  {
   "cell_type": "markdown",
   "metadata": {},
   "source": [
    "To do this we will be using the sklearn python package. It is an extremely useful machine learning package that will allow us to build a powerfull classifier in just a couple of lines. The disadvantage of this package is that it makes it possible to build, very quickly, something that you don't understand. At best it is a problem solver, at worst it is a black box generator."
   ]
  },
  {
   "cell_type": "code",
   "execution_count": 1,
   "metadata": {
    "collapsed": true
   },
   "outputs": [],
   "source": [
    "import matplotlib.pyplot as plt\n",
    "import numpy as np\n",
    "import scipy.sparse as sp\n",
    "\n",
    "from sklearn.feature_extraction.text import CountVectorizer\n",
    "from sklearn.feature_extraction.text import TfidfTransformer\n",
    "from sklearn.feature_extraction.text import TfidfVectorizer\n",
    "\n",
    "from sklearn.naive_bayes import MultinomialNB\n",
    "from sklearn.linear_model import SGDClassifier\n",
    "\n",
    "from sklearn.base import clone\n",
    "\n",
    "from sklearn.pipeline import Pipeline\n",
    "from sklearn import metrics\n",
    "\n",
    "from nltk import word_tokenize\n",
    "from nltk.stem.wordnet import WordNetLemmatizer"
   ]
  },
  {
   "cell_type": "markdown",
   "metadata": {},
   "source": [
    "## Getting and loading the data\n",
    "The raw data are psql dumps from the homepage www.arcatetrail.com. The site is not longer active. \n",
    "\n",
    "The raw data is loaded using custom loading functions. "
   ]
  },
  {
   "cell_type": "code",
   "execution_count": 2,
   "metadata": {
    "collapsed": true
   },
   "outputs": [],
   "source": [
    "import src.ReccomenderSystem as RC\n",
    "\n",
    "titles = RC.reading_titles('data/game_titles.csv')\n",
    "genres, num_games, num_attributes = RC.reading_votes('data/game_genres.csv')\n",
    "id, taglines = RC.reading_taglines('data/game_tagline.csv')"
   ]
  },
  {
   "cell_type": "markdown",
   "metadata": {},
   "source": [
    "For example, one of the taglines is the following:"
   ]
  },
  {
   "cell_type": "code",
   "execution_count": 3,
   "metadata": {},
   "outputs": [
    {
     "name": "stdout",
     "output_type": "stream",
     "text": [
      "a game of exploration and survival in an epic fantasy setting\n",
      "\n"
     ]
    }
   ],
   "source": [
    "print(taglines[1])"
   ]
  },
  {
   "cell_type": "markdown",
   "metadata": {},
   "source": [
    "## Restructuring the data\n",
    "Before we can use scikit-learn to build a classifier, we must make sure that the data is structured in a way scikit-learn will accept.\n",
    "\n",
    "The classifier will take a string as imput and produce a numerical genre index. Below I make a list of all the game tags and a corresponding vector contining all the genre indices."
   ]
  },
  {
   "cell_type": "code",
   "execution_count": 4,
   "metadata": {
    "collapsed": true
   },
   "outputs": [],
   "source": [
    "y_mat = np.zeros((len(id),32))\n",
    "X_mat = []\n",
    "X_titles = []\n",
    "kk = 0;\n",
    "for ii in range(0,len(id)):\n",
    "    tagline_index = np.where(genres[:,0]==int(id[ii]))\n",
    "    if len(tagline_index[0])>0:\n",
    "        X_mat.append(taglines[ii])\n",
    "        for jj in range(0,len(tagline_index[0])):\n",
    "            genre = int(genres[tagline_index[0][jj],1])\n",
    "            y_mat[kk,genre-1] = 1\n",
    "    else:\n",
    "        X_mat.append(taglines[ii])\n",
    "    kk = kk+1"
   ]
  },
  {
   "cell_type": "markdown",
   "metadata": {},
   "source": [
    "## Exploring the data\n",
    "Before I build the classifier, I it is usefull to explore the data to get a realistic expection about how successful the classifier can be. Below I look at how the games are distributed across the different genres."
   ]
  },
  {
   "cell_type": "code",
   "execution_count": 5,
   "metadata": {},
   "outputs": [
    {
     "data": {
      "image/png": "[encoded data removed]",
      "text/plain": [
       "<matplotlib.figure.Figure at 0x10c7204a8>"
      ]
     },
     "metadata": {},
     "output_type": "display_data"
    }
   ],
   "source": [
    "aggregate = sum(y_mat)\n",
    "plt.bar(range(len(aggregate)),aggregate)\n",
    "plt.show()"
   ]
  },
  {
   "cell_type": "markdown",
   "metadata": {},
   "source": [
    "Many of the genres are empty. That is, there are no games with that genre. There are also quite a few of the genres that have less than 50 games in them. It will be difficult to build a good classifier for there."
   ]
  },
  {
   "cell_type": "markdown",
   "metadata": {},
   "source": [
    "## Splitting into train and test sets"
   ]
  },
  {
   "cell_type": "code",
   "execution_count": 6,
   "metadata": {},
   "outputs": [],
   "source": [
    "train_size = int(round(len(y_mat)*0.8))\n",
    "genre_to_train = 0\n",
    "y_train = y_mat[:train_size, genre_to_train]\n",
    "X_train = X_mat[:train_size]\n",
    "X_test = X_mat[train_size:];\n",
    "y_test = y_mat[train_size:, genre_to_train];"
   ]
  },
  {
   "cell_type": "markdown",
   "metadata": {},
   "source": [
    "## Doing the pre-processing"
   ]
  },
  {
   "cell_type": "code",
   "execution_count": 7,
   "metadata": {},
   "outputs": [
    {
     "data": {
      "text/plain": [
       "'A science fiction action role-playing third person shooter video game developed by BioWare and published by Electronic Arts.\\n'"
      ]
     },
     "execution_count": 7,
     "metadata": {},
     "output_type": "execute_result"
    }
   ],
   "source": [
    "X_train[0]"
   ]
  },
  {
   "cell_type": "markdown",
   "metadata": {},
   "source": [
    "### Going from strings to vectors (Vectorizer)"
   ]
  },
  {
   "cell_type": "code",
   "execution_count": 8,
   "metadata": {
    "collapsed": true
   },
   "outputs": [],
   "source": [
    "tfid_vectorizer = TfidfVectorizer(X_train,\n",
    "                stop_words='english',analyzer='word')"
   ]
  },
  {
   "cell_type": "markdown",
   "metadata": {},
   "source": [
    "The stop words the model ignors can be inspected:"
   ]
  },
  {
   "cell_type": "code",
   "execution_count": 9,
   "metadata": {
    "collapsed": true
   },
   "outputs": [],
   "source": [
    "tfid_vectorizer.get_stop_words();"
   ]
  },
  {
   "cell_type": "markdown",
   "metadata": {},
   "source": [
    "Likewise, the strings used to build the analyzer can be inspected togeter with the parameters of the model"
   ]
  },
  {
   "cell_type": "code",
   "execution_count": 10,
   "metadata": {
    "collapsed": true
   },
   "outputs": [],
   "source": [
    "tfid_vectorizer.get_params();"
   ]
  },
  {
   "cell_type": "markdown",
   "metadata": {},
   "source": [
    "So lets see how it works by running it over an example and doing the inverse transform to get the words it used back"
   ]
  },
  {
   "cell_type": "code",
   "execution_count": 11,
   "metadata": {
    "collapsed": true
   },
   "outputs": [],
   "source": [
    "X_vect = tfid_vectorizer.fit_transform([X_test[0]])"
   ]
  },
  {
   "cell_type": "code",
   "execution_count": 12,
   "metadata": {
    "collapsed": true
   },
   "outputs": [],
   "source": [
    "X_inverse = tfid_vectorizer.inverse_transform(X_vect)"
   ]
  },
  {
   "cell_type": "markdown",
   "metadata": {},
   "source": [
    "So the test example gets the following transform:"
   ]
  },
  {
   "cell_type": "code",
   "execution_count": 13,
   "metadata": {},
   "outputs": [
    {
     "name": "stdout",
     "output_type": "stream",
     "text": [
      "before: A fast and skill based party game where all of the focus lies in fun and engaging gameplay\n",
      "\n",
      "After: ['fast' 'skill' 'based' 'party' 'game' 'focus' 'lies' 'fun' 'engaging'\n",
      " 'gameplay']\n"
     ]
    }
   ],
   "source": [
    "print('before: ' + X_test[0])\n",
    "print('After: ' + str(X_inverse[0][:]))"
   ]
  },
  {
   "cell_type": "markdown",
   "metadata": {},
   "source": [
    "## Lemmatizing"
   ]
  },
  {
   "cell_type": "code",
   "execution_count": 14,
   "metadata": {
    "collapsed": true
   },
   "outputs": [],
   "source": [
    "class LemmaTokenizer(object):\n",
    "    def __init__(self):\n",
    "        self.wnl = WordNetLemmatizer()\n",
    "    def __call__(self, doc):\n",
    "        return [self.wnl.lemmatize(t) for t in word_tokenize(doc)]"
   ]
  },
  {
   "cell_type": "code",
   "execution_count": 15,
   "metadata": {},
   "outputs": [],
   "source": [
    "tfid_vectorizer = TfidfVectorizer(X_train,\n",
    "                    tokenizer=LemmaTokenizer(), \n",
    "                    stop_words='english',analyzer='word')\n"
   ]
  },
  {
   "cell_type": "code",
   "execution_count": 16,
   "metadata": {},
   "outputs": [
    {
     "name": "stdout",
     "output_type": "stream",
     "text": [
      "before: A fast and skill based party game where all of the focus lies in fun and engaging gameplay\n",
      "\n",
      "After: ['fast' 'skill' 'based' 'party' 'game' 'focus' 'lie' 'fun' 'engaging'\n",
      " 'gameplay']\n"
     ]
    }
   ],
   "source": [
    "X_vect = tfid_vectorizer.fit_transform([X_test[0]])\n",
    "X_inverse = tfid_vectorizer.inverse_transform(X_vect)\n",
    "print('before: ' + X_test[0])\n",
    "print('After: ' + str(X_inverse[0][:]))"
   ]
  },
  {
   "cell_type": "markdown",
   "metadata": {},
   "source": [
    "### Normalizing with term-frequency-inverse-document-frequency"
   ]
  },
  {
   "cell_type": "code",
   "execution_count": 17,
   "metadata": {
    "collapsed": true
   },
   "outputs": [],
   "source": [
    "tfidf_normalizer = TfidfTransformer(norm='l2',use_idf=True,smooth_idf=True)"
   ]
  },
  {
   "cell_type": "code",
   "execution_count": 18,
   "metadata": {
    "collapsed": true
   },
   "outputs": [],
   "source": [
    "X_vect_norm = tfidf_normalizer.fit_transform(X_vect)"
   ]
  },
  {
   "cell_type": "code",
   "execution_count": 19,
   "metadata": {},
   "outputs": [
    {
     "name": "stdout",
     "output_type": "stream",
     "text": [
      "  (0, 6)\t0.316227766017\n",
      "  (0, 1)\t0.316227766017\n",
      "  (0, 4)\t0.316227766017\n",
      "  (0, 7)\t0.316227766017\n",
      "  (0, 3)\t0.316227766017\n",
      "  (0, 5)\t0.316227766017\n",
      "  (0, 8)\t0.316227766017\n",
      "  (0, 0)\t0.316227766017\n",
      "  (0, 9)\t0.316227766017\n",
      "  (0, 2)\t0.316227766017\n"
     ]
    }
   ],
   "source": [
    "print(X_vect_norm)"
   ]
  },
  {
   "cell_type": "markdown",
   "metadata": {},
   "source": [
    "## Setting up the pipeline"
   ]
  },
  {
   "cell_type": "code",
   "execution_count": 20,
   "metadata": {},
   "outputs": [],
   "source": [
    "pipeline = Pipeline([\n",
    "('vect', tfid_vectorizer),\n",
    "('tfidf', tfidf_normalizer),\n",
    "('clf', MultinomialNB())\n",
    "])\n",
    "clf = pipeline.fit(X_train, y_train)"
   ]
  },
  {
   "cell_type": "markdown",
   "metadata": {},
   "source": [
    "## Trying out a few made-up examples"
   ]
  },
  {
   "cell_type": "code",
   "execution_count": 21,
   "metadata": {
    "collapsed": true
   },
   "outputs": [],
   "source": [
    "genre_names = ['Action', 'Indie', 'Strategy', 'Early Access', 'Free to Play', 'Massively Multiplayer', 'RPG',\n",
    "               'Adventure', 'Casual', 'Simulation', 'Racing', 'Sports', 'Audio Production', 'Utilities', \n",
    "               'Video Production', 'Education', 'Design & Illustration', 'Web Publishing', 'Photo Editing',\n",
    "               'Software Training', 'Animation & Modeling', 'Puzzle', 'Platformer', 'Survival', 'Shooter', \n",
    "               'Horror', 'Sandbox', 'Music', 'Fighting', 'Hidden Objects', 'Accounting']"
   ]
  },
  {
   "cell_type": "code",
   "execution_count": 22,
   "metadata": {},
   "outputs": [
    {
     "name": "stderr",
     "output_type": "stream",
     "text": [
      "/Users/hartmann/Documents/projects/arcade_trail/env/lib/python3.6/site-packages/sklearn/naive_bayes.py:455: RuntimeWarning: divide by zero encountered in log\n",
      "  self.class_log_prior_ = (np.log(self.class_count_) -\n",
      "/Users/hartmann/Documents/projects/arcade_trail/env/lib/python3.6/site-packages/sklearn/naive_bayes.py:455: RuntimeWarning: divide by zero encountered in log\n",
      "  self.class_log_prior_ = (np.log(self.class_count_) -\n",
      "/Users/hartmann/Documents/projects/arcade_trail/env/lib/python3.6/site-packages/sklearn/naive_bayes.py:455: RuntimeWarning: divide by zero encountered in log\n",
      "  self.class_log_prior_ = (np.log(self.class_count_) -\n",
      "/Users/hartmann/Documents/projects/arcade_trail/env/lib/python3.6/site-packages/sklearn/naive_bayes.py:455: RuntimeWarning: divide by zero encountered in log\n",
      "  self.class_log_prior_ = (np.log(self.class_count_) -\n"
     ]
    }
   ],
   "source": [
    "model_collection = []\n",
    "for genre in range(0,31):\n",
    "    clf_clone = clone(pipeline)\n",
    "    clf_clone.fit(X_mat, y_mat[:, genre])\n",
    "    model_collection.append(clf_clone)"
   ]
  },
  {
   "cell_type": "code",
   "execution_count": 32,
   "metadata": {
    "collapsed": true
   },
   "outputs": [],
   "source": [
    "example = ['Shoot your way through the jungle to survive']"
   ]
  },
  {
   "cell_type": "code",
   "execution_count": 33,
   "metadata": {},
   "outputs": [],
   "source": [
    "pred_list = []\n",
    "for idx, clf in enumerate(model_collection):\n",
    "    pred = clf.predict_proba(example)\n",
    "    pred_list.append(pred[:,1])\n",
    "    #print(pred[:,1], genre_names[idx])"
   ]
  },
  {
   "cell_type": "code",
   "execution_count": 34,
   "metadata": {},
   "outputs": [
    {
     "data": {
      "text/plain": [
       "[(array([ 0.70640605]), 'Indie'),\n",
       " (array([ 0.69288501]), 'Action'),\n",
       " (array([ 0.19967321]), 'Adventure'),\n",
       " (array([ 0.09826113]), 'Casual'),\n",
       " (array([ 0.06818273]), 'RPG'),\n",
       " (array([ 0.05643554]), 'Strategy'),\n",
       " (array([ 0.05127073]), 'Early Access'),\n",
       " (array([ 0.04673651]), 'Simulation'),\n",
       " (array([ 0.01127945]), 'Free to Play'),\n",
       " (array([ 0.01115405]), 'Sports'),\n",
       " (array([ 0.00724097]), 'Massively Multiplayer'),\n",
       " (array([ 0.00634974]), 'Racing'),\n",
       " (array([ 0.0051457]), 'Sandbox'),\n",
       " (array([ 0.00289246]), 'Survival'),\n",
       " (array([ 0.00288142]), 'Shooter'),\n",
       " (array([ 0.00077525]), 'Design & Illustration'),\n",
       " (array([ 0.0007749]), 'Hidden Objects'),\n",
       " (array([ 0.00062086]), 'Web Publishing'),\n",
       " (array([ 0.00061943]), 'Horror'),\n",
       " (array([ 0.00046605]), 'Animation & Modeling'),\n",
       " (array([ 0.00046545]), 'Utilities'),\n",
       " (array([ 0.00046532]), 'Music'),\n",
       " (array([ 0.00031146]), 'Accounting'),\n",
       " (array([ 0.00031129]), 'Video Production'),\n",
       " (array([ 0.00031095]), 'Audio Production'),\n",
       " (array([ 0.00031083]), 'Education'),\n",
       " (array([ 0.00015572]), 'Fighting'),\n",
       " (array([ 0.]), 'Photo Editing'),\n",
       " (array([ 0.]), 'Software Training'),\n",
       " (array([ 0.]), 'Puzzle'),\n",
       " (array([ 0.]), 'Platformer')]"
      ]
     },
     "execution_count": 34,
     "metadata": {},
     "output_type": "execute_result"
    }
   ],
   "source": [
    "sort_idx = sorted(range(len(pred_list)), key=lambda k: pred_list[k], reverse=True)\n",
    "my_list = [(pred_list[idx], genre_names[idx]) for idx in sort_idx]\n",
    "my_list"
   ]
  },
  {
   "cell_type": "markdown",
   "metadata": {},
   "source": [
    "It seems that the model is giving the same probability to every genre. This is a bit strange. It is probably work looking into what words activate the different genres. It may be that is it standard words such as \"The\" and \"and\". Looking into the tokenizer and stemming may help. It should also be possible to get rid of unusefull words."
   ]
  },
  {
   "cell_type": "markdown",
   "metadata": {},
   "source": [
    "## Cool applications of the classifier described above\n",
    "- classify.me: A website that classifies a game given a tagline.\n",
    "- tagline generator: One could run the algorithm in reverse. Given a genre, generate a tagline. I'm not entirely sure how one would do this. The idea is to get some of the top keywords from a genre and then use those to generate a short description. I'm sure other people have worked with generating sentences string from keywords. See eg. [Narrative Science](#https://www.narrativescience.com/) "
   ]
  }
 ],
 "metadata": {
  "kernelspec": {
   "display_name": "Python 3",
   "language": "python",
   "name": "python3"
  },
  "language_info": {
   "codemirror_mode": {
    "name": "ipython",
    "version": 3
   },
   "file_extension": ".py",
   "mimetype": "text/x-python",
   "name": "python",
   "nbconvert_exporter": "python",
   "pygments_lexer": "ipython3",
   "version": "3.6.1"
  },
  "toc": {
   "colors": {
    "hover_highlight": "#DAA520",
    "running_highlight": "#FF0000",
    "selected_highlight": "#FFD700"
   },
   "moveMenuLeft": true,
   "nav_menu": {
    "height": "170px",
    "width": "253px"
   },
   "navigate_menu": true,
   "number_sections": true,
   "sideBar": true,
   "threshold": 4,
   "toc_cell": false,
   "toc_section_display": "block",
   "toc_window_display": false,
   "widenNotebook": false
  }
 },
 "nbformat": 4,
 "nbformat_minor": 2
}
