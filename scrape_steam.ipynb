{
 "cells": [
  {
   "cell_type": "markdown",
   "metadata": {},
   "source": [
    "# Scraping steam to get game description and tags"
   ]
  },
  {
   "cell_type": "code",
   "execution_count": 1,
   "metadata": {
    "collapsed": true
   },
   "outputs": [],
   "source": [
    "from bs4 import BeautifulSoup\n",
    "import requests\n",
    "import numpy as np\n",
    "import time\n",
    "\n",
    "import xml.etree.ElementTree"
   ]
  },
  {
   "cell_type": "code",
   "execution_count": 2,
   "metadata": {
    "collapsed": true,
    "scrolled": false
   },
   "outputs": [],
   "source": [
    "page = requests.get(\"http://store.steampowered.com/app/396560\") #/Front_Defense/\n",
    "soup = BeautifulSoup(page.text, 'html.parser') #page.content"
   ]
  },
  {
   "cell_type": "markdown",
   "metadata": {},
   "source": [
    "## Getting the game description"
   ]
  },
  {
   "cell_type": "code",
   "execution_count": 3,
   "metadata": {},
   "outputs": [
    {
     "name": "stdout",
     "output_type": "stream",
     "text": [
      "<meta content=\"“Front Defense” immerses you into the WW2 battlefield, When you shoot, throw grenades, Vive will track your location accurately. Destroy enemy with rocket tube and guns. Fully equipped troops with advanced weapons are waiting for you in the game. Make the best of your weapons to gain the victory.\" name=\"Description\"/>\n"
     ]
    }
   ],
   "source": [
    "description = soup.select('[name=\"Description\"]')\n",
    "print(description[0])"
   ]
  },
  {
   "cell_type": "code",
   "execution_count": 4,
   "metadata": {},
   "outputs": [
    {
     "data": {
      "text/plain": [
       "bs4.element.Tag"
      ]
     },
     "execution_count": 4,
     "metadata": {},
     "output_type": "execute_result"
    }
   ],
   "source": [
    "type(description[0])"
   ]
  },
  {
   "cell_type": "code",
   "execution_count": 5,
   "metadata": {},
   "outputs": [
    {
     "data": {
      "text/plain": [
       "'“Front Defense” immerses you into the WW2 battlefield, When you shoot, throw grenades, Vive will track your location accurately. Destroy enemy with rocket tube and guns. Fully equipped troops with advanced weapons are waiting for you in the game. Make the best of your weapons to gain the victory.'"
      ]
     },
     "execution_count": 5,
     "metadata": {},
     "output_type": "execute_result"
    }
   ],
   "source": [
    "text = str(description[0])\n",
    "text[15:-22]"
   ]
  },
  {
   "cell_type": "markdown",
   "metadata": {},
   "source": [
    "## Getting the game genres"
   ]
  },
  {
   "cell_type": "code",
   "execution_count": 6,
   "metadata": {},
   "outputs": [
    {
     "name": "stdout",
     "output_type": "stream",
     "text": [
      "Action\n",
      "Violent\n",
      "VR\n",
      "World War II\n"
     ]
    }
   ],
   "source": [
    "genres = soup.select('body div [class=\"app_tag\"]')\n",
    "for genre in genres:\n",
    "    print(genre.get_text().strip())"
   ]
  },
  {
   "cell_type": "markdown",
   "metadata": {},
   "source": [
    "## Getting a list of all relevant game ids"
   ]
  },
  {
   "cell_type": "code",
   "execution_count": 7,
   "metadata": {
    "collapsed": true
   },
   "outputs": [],
   "source": [
    "e = xml.etree.ElementTree.parse('data/api_steampowered.xml')\n",
    "for atype in e.findall('applist'):\n",
    "    print(atype)"
   ]
  },
  {
   "cell_type": "code",
   "execution_count": 8,
   "metadata": {
    "collapsed": true
   },
   "outputs": [],
   "source": [
    "root = e.getroot()"
   ]
  },
  {
   "cell_type": "code",
   "execution_count": 9,
   "metadata": {
    "collapsed": true
   },
   "outputs": [],
   "source": [
    "game_ids = []\n",
    "for idx in range(len(root[0])):\n",
    "    game_id = root[0][idx][0].text\n",
    "    name = root[0][idx][1].text\n",
    "    game_ids.append(game_id)"
   ]
  },
  {
   "cell_type": "markdown",
   "metadata": {},
   "source": [
    "## Looping over all games"
   ]
  },
  {
   "cell_type": "code",
   "execution_count": 10,
   "metadata": {},
   "outputs": [
    {
     "name": "stdout",
     "output_type": "stream",
     "text": [
      "The number of games on steam is:  44248\n"
     ]
    }
   ],
   "source": [
    "print('The number of games on steam is: ', len(game_ids))"
   ]
  },
  {
   "cell_type": "code",
   "execution_count": null,
   "metadata": {},
   "outputs": [],
   "source": [
    "#game_descriptions = []\n",
    "#game_genres = []\n",
    "#complete_genre_list = []\n",
    "for game_id in game_ids[26143:]:\n",
    "    # Sleeping the loop between 1 and 2 secs\n",
    "    sleep_time = np.random.randint(1,3)\n",
    "    time.sleep(sleep_time)\n",
    "    \n",
    "    # Requesting the page\n",
    "    page = requests.get(\"http://store.steampowered.com/app/\"+str(game_id), allow_redirects=False )\n",
    "    soup = BeautifulSoup(page.text, 'html.parser')\n",
    "    \n",
    "    # Getting the game description\n",
    "    description = soup.select('meta[name=\"Description\"]')\n",
    "    if len(description)>0:\n",
    "        #print('game_id: ', game_id)\n",
    "        \n",
    "        text = str(description[0])\n",
    "        description = text[15:-22]\n",
    "        #print(str(description))\n",
    "        game_descriptions.append(description)\n",
    "    \n",
    "        # Getting the genres\n",
    "        genres = []\n",
    "        tags = soup.select('body div [class=\"app_tag\"]')\n",
    "        for item in tags:\n",
    "            genre = item.get_text().strip()\n",
    "            genres.append(genre)\n",
    "            if genre not in complete_genre_list:\n",
    "                complete_genre_list.append(genre)\n",
    "        #print(genres)\n",
    "        game_ids.append(game_id)\n",
    "        \n",
    "        game_genres.append(genres)"
   ]
  },
  {
   "cell_type": "code",
   "execution_count": null,
   "metadata": {},
   "outputs": [],
   "source": [
    "import csv\n",
    "\n",
    "with open('data/steam_game_descriptions.txt', 'w') as fp:\n",
    "    a = csv.writer(fp) \n",
    "    a.writerow(game_descriptions)\n",
    "    \n",
    "with open('data/steam_game_tags.txt', 'w') as fp:\n",
    "    a = csv.writer(fp) \n",
    "    for genres in game_genres:\n",
    "        a.writerow(genres)\n",
    "    \n",
    "with open('data/steam_complete_tag_list.txt', 'w') as fp:\n",
    "    a = csv.writer(fp) \n",
    "    a.writerow(complete_genre_list)"
   ]
  },
  {
   "cell_type": "code",
   "execution_count": null,
   "metadata": {},
   "outputs": [],
   "source": [
    "len(game_descriptions)"
   ]
  },
  {
   "cell_type": "code",
   "execution_count": null,
   "metadata": {},
   "outputs": [],
   "source": [
    "len(complete_genre_list)"
   ]
  },
  {
   "cell_type": "markdown",
   "metadata": {},
   "source": [
    "## Doing one-hot encoding of the genres"
   ]
  },
  {
   "cell_type": "code",
   "execution_count": null,
   "metadata": {
    "collapsed": true
   },
   "outputs": [],
   "source": [
    "tag_to_idx_dict = {}\n",
    "for idx, tag in enumerate(complete_genre_list):\n",
    "    tag_to_idx_dict[tag] = idx"
   ]
  },
  {
   "cell_type": "code",
   "execution_count": null,
   "metadata": {
    "collapsed": true
   },
   "outputs": [],
   "source": [
    "tag_matrix = np.zeros( (len(game_descriptions), len(complete_genre_list)) )\n",
    "for idx, tag_list in enumerate(game_genres):\n",
    "    #print(tag_list)\n",
    "    for tag in tag_list:\n",
    "        #print(tag)\n",
    "        tag_idx = tag_to_idx_dict[tag]\n",
    "        tag_matrix[idx, tag_idx] = 1"
   ]
  },
  {
   "cell_type": "code",
   "execution_count": null,
   "metadata": {
    "collapsed": true
   },
   "outputs": [],
   "source": [
    "np.save('data/steam_tag_metrix_2', tag_matrix)"
   ]
  }
 ],
 "metadata": {
  "kernelspec": {
   "display_name": "Python 3",
   "language": "python",
   "name": "python3"
  },
  "language_info": {
   "codemirror_mode": {
    "name": "ipython",
    "version": 3
   },
   "file_extension": ".py",
   "mimetype": "text/x-python",
   "name": "python",
   "nbconvert_exporter": "python",
   "pygments_lexer": "ipython3",
   "version": "3.6.0"
  },
  "toc": {
   "colors": {
    "hover_highlight": "#DAA520",
    "running_highlight": "#FF0000",
    "selected_highlight": "#FFD700"
   },
   "moveMenuLeft": true,
   "nav_menu": {
    "height": "45px",
    "width": "252px"
   },
   "navigate_menu": true,
   "number_sections": true,
   "sideBar": true,
   "threshold": 4,
   "toc_cell": false,
   "toc_section_display": "block",
   "toc_window_display": false,
   "widenNotebook": false
  }
 },
 "nbformat": 4,
 "nbformat_minor": 2
}
